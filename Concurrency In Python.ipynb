{
 "cells": [
  {
   "cell_type": "code",
   "execution_count": null,
   "id": "603e4053-4ec7-4847-a60a-bc2945d7a439",
   "metadata": {},
   "outputs": [],
   "source": [
    "#13.1 Write the current date as a string to the text file today.txt.\n",
    "\n",
    "from datetime import date\n",
    "\n",
    "today = date.today()\n",
    "date_string = current_date.strftime(\"%Y-%m-%d\")\n",
    "\n",
    "with open(\"today.txt\", \"w\") as file:\n",
    "    file.write(date_string)\n",
    "\n",
    "print(\"Date written to today.txt successfully.\")"
   ]
  },
  {
   "cell_type": "code",
   "execution_count": null,
   "id": "aeaf9416-61fa-40f7-aba1-dd0f3f23a57c",
   "metadata": {},
   "outputs": [],
   "source": [
    "#13.2 Read the text file today.txt into the string today_string.\n",
    "with open(\"today.txt\", \"r\") as file:\n",
    "    today_string = file.read()\n",
    "\n",
    "print(today_string)\n"
   ]
  },
  {
   "cell_type": "code",
   "execution_count": null,
   "id": "dbc50b46-0a5e-485b-92f0-a00b4d7cd649",
   "metadata": {},
   "outputs": [],
   "source": [
    "#13.3 Parse the date from today_string.\n",
    "from datetime import datetime\n",
    "parsed_date = datetime.strptime(today_string, \"%Y-%m-%d\")\n",
    "\n",
    "print(parsed_date)"
   ]
  },
  {
   "cell_type": "code",
   "execution_count": 2,
   "id": "f712cda7-dd6a-4feb-bcb1-9669311562b6",
   "metadata": {},
   "outputs": [],
   "source": [
    "#15.1 Use multiprocessing to create three separate processes. Make each one wait a random number of seconds between zero and one, print the \n",
    "#current time, and then exit.\n",
    "import multiprocessing\n",
    "import random\n",
    "import time\n",
    "from datetime import datetime\n",
    "\n",
    "def print_current_time():\n",
    "    sleep_time = random.random()\n",
    "    time.sleep(sleep_time)\n",
    "    current_time = datetime.now().strftime(\"%H:%M:%S\")\n",
    "    print(f\"Current time: {current_time}\")\n",
    "\n",
    "if __name__ == \"__main__\":\n",
    "    processes = [multiprocessing.Process(target=print_current_time) for _ in range(3)]\n",
    "    for process in processes:\n",
    "        process.start()\n",
    "    for process in processes:\n",
    "        process.join()"
   ]
  }
 ],
 "metadata": {
  "kernelspec": {
   "display_name": "Python 3 (ipykernel)",
   "language": "python",
   "name": "python3"
  },
  "language_info": {
   "codemirror_mode": {
    "name": "ipython",
    "version": 3
   },
   "file_extension": ".py",
   "mimetype": "text/x-python",
   "name": "python",
   "nbconvert_exporter": "python",
   "pygments_lexer": "ipython3",
   "version": "3.11.7"
  }
 },
 "nbformat": 4,
 "nbformat_minor": 5
}
