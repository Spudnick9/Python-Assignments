{
 "cells": [
  {
   "cell_type": "code",
   "execution_count": null,
   "id": "7f2b0344-86d4-45eb-a2c7-78e297b0e1b8",
   "metadata": {},
   "outputs": [],
   "source": [
    " ##11.1 I created my zoo.py file\n",
    "def hours():\n",
    "    print(\"Open 9-5 daily\")"
   ]
  },
  {
   "cell_type": "code",
   "execution_count": null,
   "id": "1f25a815-e345-4ded-92f5-f83c53a75cdc",
   "metadata": {},
   "outputs": [],
   "source": [
    "##11.2 i have imported my zoo file as menagerie and it has the correct output when run\n",
    "import zoo as menagerie\n",
    "menagerie.hours()"
   ]
  }
 ],
 "metadata": {
  "kernelspec": {
   "display_name": "Python 3 (ipykernel)",
   "language": "python",
   "name": "python3"
  },
  "language_info": {
   "codemirror_mode": {
    "name": "ipython",
    "version": 3
   },
   "file_extension": ".py",
   "mimetype": "text/x-python",
   "name": "python",
   "nbconvert_exporter": "python",
   "pygments_lexer": "ipython3",
   "version": "3.11.7"
  }
 },
 "nbformat": 4,
 "nbformat_minor": 5
}
