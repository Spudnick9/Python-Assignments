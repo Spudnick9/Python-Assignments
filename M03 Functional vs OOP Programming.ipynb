{
 "cells": [
  {
   "cell_type": "code",
   "execution_count": 7,
   "id": "3afe4702-e769-4f47-a0ae-1276a492af87",
   "metadata": {},
   "outputs": [
    {
     "name": "stdout",
     "output_type": "stream",
     "text": [
      "[0, 0, 0, 1, 1, 1, 2, 2]\n"
     ]
    }
   ],
   "source": [
    "# sort an array\n",
    "def sort012(arr, N):\n",
    "    # Initialize pointers for 0, 1, and 2\n",
    "    low = 0\n",
    "    mid = 0\n",
    "    high = N - 1\n",
    "\n",
    "    # Traverse the array\n",
    "    while mid <= high:\n",
    "        if arr[mid] == 0:\n",
    "            # If current element is 0, swap it with element at low pointer\n",
    "            arr[low], arr[mid] = arr[mid], arr[low]\n",
    "            # Move low and mid pointers forward\n",
    "            low += 1\n",
    "            mid += 1\n",
    "        elif arr[mid] == 1:\n",
    "            # If current element is 1, just move mid pointer forward\n",
    "            mid += 1\n",
    "        else:\n",
    "            # If current element is 2, swap it with element at high pointer\n",
    "            arr[mid], arr[high] = arr[high], arr[mid]\n",
    "            # Move high pointer backward\n",
    "            high -= 1\n",
    "\n"
   ]
  },
  {
   "cell_type": "code",
   "execution_count": null,
   "id": "974276e7-e902-4b61-b701-d48b430c7227",
   "metadata": {},
   "outputs": [],
   "source": [
    "# Binary search\n",
    "def binarysearch(arr, low, high, K):\n",
    "    if low <= high:\n",
    "        mid = (low + high) // 2\n",
    "        if arr[mid] == K:\n",
    "            return mid\n",
    "        elif arr[mid] < K:\n",
    "            return binarysearch(arr, mid + 1, high, K)\n",
    "        else:\n",
    "            return binarysearch(arr, low, mid - 1, K)\n",
    "    else:\n",
    "        return -1"
   ]
  }
 ],
 "metadata": {
  "kernelspec": {
   "display_name": "Python 3 (ipykernel)",
   "language": "python",
   "name": "python3"
  },
  "language_info": {
   "codemirror_mode": {
    "name": "ipython",
    "version": 3
   },
   "file_extension": ".py",
   "mimetype": "text/x-python",
   "name": "python",
   "nbconvert_exporter": "python",
   "pygments_lexer": "ipython3",
   "version": "3.11.7"
  }
 },
 "nbformat": 4,
 "nbformat_minor": 5
}
