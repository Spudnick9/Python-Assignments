{
 "cells": [
  {
   "cell_type": "code",
   "execution_count": 2,
   "id": "49ffd2a2-ce81-4e51-903b-917ae08f7ce3",
   "metadata": {},
   "outputs": [
    {
     "name": "stdin",
     "output_type": "stream",
     "text": [
      "Please neter last name:  Kyle\n",
      "Please enter first name:  Schreader\n",
      "Please emter GPA:  3.4\n"
     ]
    },
    {
     "name": "stdout",
     "output_type": "stream",
     "text": [
      "Student has made Honor Roll.\n"
     ]
    }
   ],
   "source": [
    "##Thomas Scherrer##\n",
    "##This app will take an input of a student's first and ;ast name as well as their GPA and find out if it will fit into Honor Roll or Dean's List##\n",
    "last_name = input(\"Please neter last name: \")\n",
    "if last_name == \"ZZZ\":\n",
    "    print(\"Quitting\")\n",
    "    \n",
    "\n",
    "first_name = input(\"Please enter first name: \")\n",
    "GPA = float(input(\"Please emter GPA: \"))\n",
    "\n",
    "if GPA >= 3.5:\n",
    "    print(\"Student has made the Dean's List.\")\n",
    "elif GPA >= 3.25:\n",
    "    print(\"Student has made Honor Roll.\")"
   ]
  },
  {
   "cell_type": "code",
   "execution_count": null,
   "id": "7177f831-0e8f-4147-9dfb-476f2f9635c2",
   "metadata": {},
   "outputs": [],
   "source": []
  }
 ],
 "metadata": {
  "kernelspec": {
   "display_name": "Python 3 (ipykernel)",
   "language": "python",
   "name": "python3"
  },
  "language_info": {
   "codemirror_mode": {
    "name": "ipython",
    "version": 3
   },
   "file_extension": ".py",
   "mimetype": "text/x-python",
   "name": "python",
   "nbconvert_exporter": "python",
   "pygments_lexer": "ipython3",
   "version": "3.11.7"
  }
 },
 "nbformat": 4,
 "nbformat_minor": 5
}
